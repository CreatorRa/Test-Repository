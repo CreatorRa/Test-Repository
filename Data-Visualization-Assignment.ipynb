{
  "cell_type": "code",
  "execution_count":2
  "metadata":{}
  "outputs":[]
  "source":[
    "# Import required libraries\n",
    "import pandas as pd\n",
    "import dash\n",
    "import dash_html_components as html\n",
    "import dash_core_components as dcc\n",
    "from dash.dependencies import Input, Output, State\n",
    "from jupyter_dash import JupyterDash\n",
    "import plotly.graph_objects as go\n",
    "import plotly.express as px\n",
    "from dash import no_update",
    ]
},
